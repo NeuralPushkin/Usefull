{
  "nbformat": 4,
  "nbformat_minor": 0,
  "metadata": {
    "colab": {
      "name": "ruGPT with apex",
      "provenance": [],
      "collapsed_sections": [
        "Lb8e1GYVzKGZ"
      ]
    },
    "kernelspec": {
      "name": "python3",
      "display_name": "Python 3"
    },
    "language_info": {
      "name": "python"
    },
    "accelerator": "GPU"
  },
  "cells": [
    {
      "cell_type": "markdown",
      "metadata": {
        "id": "kGISyLGizRm2"
      },
      "source": [
        "#Train ru gpt with apex"
      ]
    },
    {
      "cell_type": "code",
      "metadata": {
        "colab": {
          "base_uri": "https://localhost:8080/",
          "height": 35
        },
        "id": "RHfKoFYhrcEM",
        "outputId": "72ec6845-b907-430e-d3a3-336a8977c358"
      },
      "source": [
        "import torch\n",
        "torch.__version__"
      ],
      "execution_count": null,
      "outputs": [
        {
          "output_type": "execute_result",
          "data": {
            "application/vnd.google.colaboratory.intrinsic+json": {
              "type": "string"
            },
            "text/plain": [
              "'1.9.0+cu102'"
            ]
          },
          "metadata": {},
          "execution_count": 1
        }
      ]
    },
    {
      "cell_type": "code",
      "metadata": {
        "colab": {
          "base_uri": "https://localhost:8080/"
        },
        "id": "YsZyT6qcMmTB",
        "outputId": "2895b6c9-049d-4dbc-836d-0d2a80d63847"
      },
      "source": [
        "!pip install torch==1.4.0\n",
        "!pip3 install transformers==3.5.0"
      ],
      "execution_count": null,
      "outputs": [
        {
          "output_type": "stream",
          "name": "stdout",
          "text": [
            "Collecting transformers==4.2.2\n",
            "  Downloading transformers-4.2.2-py3-none-any.whl (1.8 MB)\n",
            "\u001b[?25l\r\u001b[K     |▏                               | 10 kB 35.8 MB/s eta 0:00:01\r\u001b[K     |▍                               | 20 kB 39.2 MB/s eta 0:00:01\r\u001b[K     |▋                               | 30 kB 20.3 MB/s eta 0:00:01\r\u001b[K     |▊                               | 40 kB 16.6 MB/s eta 0:00:01\r\u001b[K     |█                               | 51 kB 8.9 MB/s eta 0:00:01\r\u001b[K     |█▏                              | 61 kB 8.9 MB/s eta 0:00:01\r\u001b[K     |█▎                              | 71 kB 9.1 MB/s eta 0:00:01\r\u001b[K     |█▌                              | 81 kB 10.2 MB/s eta 0:00:01\r\u001b[K     |█▊                              | 92 kB 10.4 MB/s eta 0:00:01\r\u001b[K     |█▉                              | 102 kB 8.5 MB/s eta 0:00:01\r\u001b[K     |██                              | 112 kB 8.5 MB/s eta 0:00:01\r\u001b[K     |██▎                             | 122 kB 8.5 MB/s eta 0:00:01\r\u001b[K     |██▍                             | 133 kB 8.5 MB/s eta 0:00:01\r\u001b[K     |██▋                             | 143 kB 8.5 MB/s eta 0:00:01\r\u001b[K     |██▉                             | 153 kB 8.5 MB/s eta 0:00:01\r\u001b[K     |███                             | 163 kB 8.5 MB/s eta 0:00:01\r\u001b[K     |███▏                            | 174 kB 8.5 MB/s eta 0:00:01\r\u001b[K     |███▍                            | 184 kB 8.5 MB/s eta 0:00:01\r\u001b[K     |███▌                            | 194 kB 8.5 MB/s eta 0:00:01\r\u001b[K     |███▊                            | 204 kB 8.5 MB/s eta 0:00:01\r\u001b[K     |████                            | 215 kB 8.5 MB/s eta 0:00:01\r\u001b[K     |████                            | 225 kB 8.5 MB/s eta 0:00:01\r\u001b[K     |████▎                           | 235 kB 8.5 MB/s eta 0:00:01\r\u001b[K     |████▌                           | 245 kB 8.5 MB/s eta 0:00:01\r\u001b[K     |████▋                           | 256 kB 8.5 MB/s eta 0:00:01\r\u001b[K     |████▉                           | 266 kB 8.5 MB/s eta 0:00:01\r\u001b[K     |█████                           | 276 kB 8.5 MB/s eta 0:00:01\r\u001b[K     |█████▏                          | 286 kB 8.5 MB/s eta 0:00:01\r\u001b[K     |█████▍                          | 296 kB 8.5 MB/s eta 0:00:01\r\u001b[K     |█████▋                          | 307 kB 8.5 MB/s eta 0:00:01\r\u001b[K     |█████▊                          | 317 kB 8.5 MB/s eta 0:00:01\r\u001b[K     |██████                          | 327 kB 8.5 MB/s eta 0:00:01\r\u001b[K     |██████▏                         | 337 kB 8.5 MB/s eta 0:00:01\r\u001b[K     |██████▎                         | 348 kB 8.5 MB/s eta 0:00:01\r\u001b[K     |██████▌                         | 358 kB 8.5 MB/s eta 0:00:01\r\u001b[K     |██████▊                         | 368 kB 8.5 MB/s eta 0:00:01\r\u001b[K     |██████▉                         | 378 kB 8.5 MB/s eta 0:00:01\r\u001b[K     |███████                         | 389 kB 8.5 MB/s eta 0:00:01\r\u001b[K     |███████▎                        | 399 kB 8.5 MB/s eta 0:00:01\r\u001b[K     |███████▍                        | 409 kB 8.5 MB/s eta 0:00:01\r\u001b[K     |███████▋                        | 419 kB 8.5 MB/s eta 0:00:01\r\u001b[K     |███████▉                        | 430 kB 8.5 MB/s eta 0:00:01\r\u001b[K     |████████                        | 440 kB 8.5 MB/s eta 0:00:01\r\u001b[K     |████████▏                       | 450 kB 8.5 MB/s eta 0:00:01\r\u001b[K     |████████▍                       | 460 kB 8.5 MB/s eta 0:00:01\r\u001b[K     |████████▌                       | 471 kB 8.5 MB/s eta 0:00:01\r\u001b[K     |████████▊                       | 481 kB 8.5 MB/s eta 0:00:01\r\u001b[K     |█████████                       | 491 kB 8.5 MB/s eta 0:00:01\r\u001b[K     |█████████                       | 501 kB 8.5 MB/s eta 0:00:01\r\u001b[K     |█████████▎                      | 512 kB 8.5 MB/s eta 0:00:01\r\u001b[K     |█████████▌                      | 522 kB 8.5 MB/s eta 0:00:01\r\u001b[K     |█████████▋                      | 532 kB 8.5 MB/s eta 0:00:01\r\u001b[K     |█████████▉                      | 542 kB 8.5 MB/s eta 0:00:01\r\u001b[K     |██████████                      | 552 kB 8.5 MB/s eta 0:00:01\r\u001b[K     |██████████▏                     | 563 kB 8.5 MB/s eta 0:00:01\r\u001b[K     |██████████▍                     | 573 kB 8.5 MB/s eta 0:00:01\r\u001b[K     |██████████▋                     | 583 kB 8.5 MB/s eta 0:00:01\r\u001b[K     |██████████▊                     | 593 kB 8.5 MB/s eta 0:00:01\r\u001b[K     |███████████                     | 604 kB 8.5 MB/s eta 0:00:01\r\u001b[K     |███████████▏                    | 614 kB 8.5 MB/s eta 0:00:01\r\u001b[K     |███████████▎                    | 624 kB 8.5 MB/s eta 0:00:01\r\u001b[K     |███████████▌                    | 634 kB 8.5 MB/s eta 0:00:01\r\u001b[K     |███████████▊                    | 645 kB 8.5 MB/s eta 0:00:01\r\u001b[K     |███████████▉                    | 655 kB 8.5 MB/s eta 0:00:01\r\u001b[K     |████████████                    | 665 kB 8.5 MB/s eta 0:00:01\r\u001b[K     |████████████▎                   | 675 kB 8.5 MB/s eta 0:00:01\r\u001b[K     |████████████▍                   | 686 kB 8.5 MB/s eta 0:00:01\r\u001b[K     |████████████▋                   | 696 kB 8.5 MB/s eta 0:00:01\r\u001b[K     |████████████▉                   | 706 kB 8.5 MB/s eta 0:00:01\r\u001b[K     |█████████████                   | 716 kB 8.5 MB/s eta 0:00:01\r\u001b[K     |█████████████▏                  | 727 kB 8.5 MB/s eta 0:00:01\r\u001b[K     |█████████████▍                  | 737 kB 8.5 MB/s eta 0:00:01\r\u001b[K     |█████████████▌                  | 747 kB 8.5 MB/s eta 0:00:01\r\u001b[K     |█████████████▊                  | 757 kB 8.5 MB/s eta 0:00:01\r\u001b[K     |██████████████                  | 768 kB 8.5 MB/s eta 0:00:01\r\u001b[K     |██████████████                  | 778 kB 8.5 MB/s eta 0:00:01\r\u001b[K     |██████████████▎                 | 788 kB 8.5 MB/s eta 0:00:01\r\u001b[K     |██████████████▌                 | 798 kB 8.5 MB/s eta 0:00:01\r\u001b[K     |██████████████▋                 | 808 kB 8.5 MB/s eta 0:00:01\r\u001b[K     |██████████████▉                 | 819 kB 8.5 MB/s eta 0:00:01\r\u001b[K     |███████████████                 | 829 kB 8.5 MB/s eta 0:00:01\r\u001b[K     |███████████████▏                | 839 kB 8.5 MB/s eta 0:00:01\r\u001b[K     |███████████████▍                | 849 kB 8.5 MB/s eta 0:00:01\r\u001b[K     |███████████████▋                | 860 kB 8.5 MB/s eta 0:00:01\r\u001b[K     |███████████████▊                | 870 kB 8.5 MB/s eta 0:00:01\r\u001b[K     |████████████████                | 880 kB 8.5 MB/s eta 0:00:01\r\u001b[K     |████████████████▏               | 890 kB 8.5 MB/s eta 0:00:01\r\u001b[K     |████████████████▎               | 901 kB 8.5 MB/s eta 0:00:01\r\u001b[K     |████████████████▌               | 911 kB 8.5 MB/s eta 0:00:01\r\u001b[K     |████████████████▊               | 921 kB 8.5 MB/s eta 0:00:01\r\u001b[K     |████████████████▉               | 931 kB 8.5 MB/s eta 0:00:01\r\u001b[K     |█████████████████               | 942 kB 8.5 MB/s eta 0:00:01\r\u001b[K     |█████████████████▎              | 952 kB 8.5 MB/s eta 0:00:01\r\u001b[K     |█████████████████▍              | 962 kB 8.5 MB/s eta 0:00:01\r\u001b[K     |█████████████████▋              | 972 kB 8.5 MB/s eta 0:00:01\r\u001b[K     |█████████████████▉              | 983 kB 8.5 MB/s eta 0:00:01\r\u001b[K     |██████████████████              | 993 kB 8.5 MB/s eta 0:00:01\r\u001b[K     |██████████████████▏             | 1.0 MB 8.5 MB/s eta 0:00:01\r\u001b[K     |██████████████████▍             | 1.0 MB 8.5 MB/s eta 0:00:01\r\u001b[K     |██████████████████▌             | 1.0 MB 8.5 MB/s eta 0:00:01\r\u001b[K     |██████████████████▊             | 1.0 MB 8.5 MB/s eta 0:00:01\r\u001b[K     |███████████████████             | 1.0 MB 8.5 MB/s eta 0:00:01\r\u001b[K     |███████████████████             | 1.1 MB 8.5 MB/s eta 0:00:01\r\u001b[K     |███████████████████▎            | 1.1 MB 8.5 MB/s eta 0:00:01\r\u001b[K     |███████████████████▌            | 1.1 MB 8.5 MB/s eta 0:00:01\r\u001b[K     |███████████████████▋            | 1.1 MB 8.5 MB/s eta 0:00:01\r\u001b[K     |███████████████████▉            | 1.1 MB 8.5 MB/s eta 0:00:01\r\u001b[K     |████████████████████            | 1.1 MB 8.5 MB/s eta 0:00:01\r\u001b[K     |████████████████████▏           | 1.1 MB 8.5 MB/s eta 0:00:01\r\u001b[K     |████████████████████▍           | 1.1 MB 8.5 MB/s eta 0:00:01\r\u001b[K     |████████████████████▋           | 1.1 MB 8.5 MB/s eta 0:00:01\r\u001b[K     |████████████████████▊           | 1.1 MB 8.5 MB/s eta 0:00:01\r\u001b[K     |█████████████████████           | 1.2 MB 8.5 MB/s eta 0:00:01\r\u001b[K     |█████████████████████▏          | 1.2 MB 8.5 MB/s eta 0:00:01\r\u001b[K     |█████████████████████▎          | 1.2 MB 8.5 MB/s eta 0:00:01\r\u001b[K     |█████████████████████▌          | 1.2 MB 8.5 MB/s eta 0:00:01\r\u001b[K     |█████████████████████▊          | 1.2 MB 8.5 MB/s eta 0:00:01\r\u001b[K     |█████████████████████▉          | 1.2 MB 8.5 MB/s eta 0:00:01\r\u001b[K     |██████████████████████          | 1.2 MB 8.5 MB/s eta 0:00:01\r\u001b[K     |██████████████████████▎         | 1.2 MB 8.5 MB/s eta 0:00:01\r\u001b[K     |██████████████████████▍         | 1.2 MB 8.5 MB/s eta 0:00:01\r\u001b[K     |██████████████████████▋         | 1.2 MB 8.5 MB/s eta 0:00:01\r\u001b[K     |██████████████████████▉         | 1.3 MB 8.5 MB/s eta 0:00:01\r\u001b[K     |███████████████████████         | 1.3 MB 8.5 MB/s eta 0:00:01\r\u001b[K     |███████████████████████▏        | 1.3 MB 8.5 MB/s eta 0:00:01\r\u001b[K     |███████████████████████▍        | 1.3 MB 8.5 MB/s eta 0:00:01\r\u001b[K     |███████████████████████▌        | 1.3 MB 8.5 MB/s eta 0:00:01\r\u001b[K     |███████████████████████▊        | 1.3 MB 8.5 MB/s eta 0:00:01\r\u001b[K     |████████████████████████        | 1.3 MB 8.5 MB/s eta 0:00:01\r\u001b[K     |████████████████████████        | 1.3 MB 8.5 MB/s eta 0:00:01\r\u001b[K     |████████████████████████▎       | 1.3 MB 8.5 MB/s eta 0:00:01\r\u001b[K     |████████████████████████▌       | 1.4 MB 8.5 MB/s eta 0:00:01\r\u001b[K     |████████████████████████▊       | 1.4 MB 8.5 MB/s eta 0:00:01\r\u001b[K     |████████████████████████▉       | 1.4 MB 8.5 MB/s eta 0:00:01\r\u001b[K     |█████████████████████████       | 1.4 MB 8.5 MB/s eta 0:00:01\r\u001b[K     |█████████████████████████▎      | 1.4 MB 8.5 MB/s eta 0:00:01\r\u001b[K     |█████████████████████████▍      | 1.4 MB 8.5 MB/s eta 0:00:01\r\u001b[K     |█████████████████████████▋      | 1.4 MB 8.5 MB/s eta 0:00:01\r\u001b[K     |█████████████████████████▉      | 1.4 MB 8.5 MB/s eta 0:00:01\r\u001b[K     |██████████████████████████      | 1.4 MB 8.5 MB/s eta 0:00:01\r\u001b[K     |██████████████████████████▏     | 1.4 MB 8.5 MB/s eta 0:00:01\r\u001b[K     |██████████████████████████▍     | 1.5 MB 8.5 MB/s eta 0:00:01\r\u001b[K     |██████████████████████████▌     | 1.5 MB 8.5 MB/s eta 0:00:01\r\u001b[K     |██████████████████████████▊     | 1.5 MB 8.5 MB/s eta 0:00:01\r\u001b[K     |███████████████████████████     | 1.5 MB 8.5 MB/s eta 0:00:01\r\u001b[K     |███████████████████████████     | 1.5 MB 8.5 MB/s eta 0:00:01\r\u001b[K     |███████████████████████████▎    | 1.5 MB 8.5 MB/s eta 0:00:01\r\u001b[K     |███████████████████████████▌    | 1.5 MB 8.5 MB/s eta 0:00:01\r\u001b[K     |███████████████████████████▋    | 1.5 MB 8.5 MB/s eta 0:00:01\r\u001b[K     |███████████████████████████▉    | 1.5 MB 8.5 MB/s eta 0:00:01\r\u001b[K     |████████████████████████████    | 1.5 MB 8.5 MB/s eta 0:00:01\r\u001b[K     |████████████████████████████▏   | 1.6 MB 8.5 MB/s eta 0:00:01\r\u001b[K     |████████████████████████████▍   | 1.6 MB 8.5 MB/s eta 0:00:01\r\u001b[K     |████████████████████████████▋   | 1.6 MB 8.5 MB/s eta 0:00:01\r\u001b[K     |████████████████████████████▊   | 1.6 MB 8.5 MB/s eta 0:00:01\r\u001b[K     |█████████████████████████████   | 1.6 MB 8.5 MB/s eta 0:00:01\r\u001b[K     |█████████████████████████████▏  | 1.6 MB 8.5 MB/s eta 0:00:01\r\u001b[K     |█████████████████████████████▎  | 1.6 MB 8.5 MB/s eta 0:00:01\r\u001b[K     |█████████████████████████████▌  | 1.6 MB 8.5 MB/s eta 0:00:01\r\u001b[K     |█████████████████████████████▊  | 1.6 MB 8.5 MB/s eta 0:00:01\r\u001b[K     |█████████████████████████████▉  | 1.6 MB 8.5 MB/s eta 0:00:01\r\u001b[K     |██████████████████████████████  | 1.7 MB 8.5 MB/s eta 0:00:01\r\u001b[K     |██████████████████████████████▎ | 1.7 MB 8.5 MB/s eta 0:00:01\r\u001b[K     |██████████████████████████████▍ | 1.7 MB 8.5 MB/s eta 0:00:01\r\u001b[K     |██████████████████████████████▋ | 1.7 MB 8.5 MB/s eta 0:00:01\r\u001b[K     |██████████████████████████████▉ | 1.7 MB 8.5 MB/s eta 0:00:01\r\u001b[K     |███████████████████████████████ | 1.7 MB 8.5 MB/s eta 0:00:01\r\u001b[K     |███████████████████████████████▏| 1.7 MB 8.5 MB/s eta 0:00:01\r\u001b[K     |███████████████████████████████▍| 1.7 MB 8.5 MB/s eta 0:00:01\r\u001b[K     |███████████████████████████████▌| 1.7 MB 8.5 MB/s eta 0:00:01\r\u001b[K     |███████████████████████████████▊| 1.8 MB 8.5 MB/s eta 0:00:01\r\u001b[K     |████████████████████████████████| 1.8 MB 8.5 MB/s eta 0:00:01\r\u001b[K     |████████████████████████████████| 1.8 MB 8.5 MB/s \n",
            "\u001b[?25hRequirement already satisfied: packaging in /usr/local/lib/python3.7/dist-packages (from transformers==4.2.2) (21.0)\n",
            "Requirement already satisfied: regex!=2019.12.17 in /usr/local/lib/python3.7/dist-packages (from transformers==4.2.2) (2019.12.20)\n",
            "Collecting tokenizers==0.9.4\n",
            "  Downloading tokenizers-0.9.4-cp37-cp37m-manylinux2010_x86_64.whl (2.9 MB)\n",
            "\u001b[K     |████████████████████████████████| 2.9 MB 69.2 MB/s \n",
            "\u001b[?25hRequirement already satisfied: numpy in /usr/local/lib/python3.7/dist-packages (from transformers==4.2.2) (1.19.5)\n",
            "Requirement already satisfied: importlib-metadata in /usr/local/lib/python3.7/dist-packages (from transformers==4.2.2) (4.6.4)\n",
            "Requirement already satisfied: filelock in /usr/local/lib/python3.7/dist-packages (from transformers==4.2.2) (3.0.12)\n",
            "Requirement already satisfied: tqdm>=4.27 in /usr/local/lib/python3.7/dist-packages (from transformers==4.2.2) (4.62.0)\n",
            "Requirement already satisfied: requests in /usr/local/lib/python3.7/dist-packages (from transformers==4.2.2) (2.23.0)\n",
            "Collecting sacremoses\n",
            "  Downloading sacremoses-0.0.45-py3-none-any.whl (895 kB)\n",
            "\u001b[K     |████████████████████████████████| 895 kB 72.0 MB/s \n",
            "\u001b[?25hRequirement already satisfied: typing-extensions>=3.6.4 in /usr/local/lib/python3.7/dist-packages (from importlib-metadata->transformers==4.2.2) (3.7.4.3)\n",
            "Requirement already satisfied: zipp>=0.5 in /usr/local/lib/python3.7/dist-packages (from importlib-metadata->transformers==4.2.2) (3.5.0)\n",
            "Requirement already satisfied: pyparsing>=2.0.2 in /usr/local/lib/python3.7/dist-packages (from packaging->transformers==4.2.2) (2.4.7)\n",
            "Requirement already satisfied: certifi>=2017.4.17 in /usr/local/lib/python3.7/dist-packages (from requests->transformers==4.2.2) (2021.5.30)\n",
            "Requirement already satisfied: urllib3!=1.25.0,!=1.25.1,<1.26,>=1.21.1 in /usr/local/lib/python3.7/dist-packages (from requests->transformers==4.2.2) (1.24.3)\n",
            "Requirement already satisfied: chardet<4,>=3.0.2 in /usr/local/lib/python3.7/dist-packages (from requests->transformers==4.2.2) (3.0.4)\n",
            "Requirement already satisfied: idna<3,>=2.5 in /usr/local/lib/python3.7/dist-packages (from requests->transformers==4.2.2) (2.10)\n",
            "Requirement already satisfied: six in /usr/local/lib/python3.7/dist-packages (from sacremoses->transformers==4.2.2) (1.15.0)\n",
            "Requirement already satisfied: click in /usr/local/lib/python3.7/dist-packages (from sacremoses->transformers==4.2.2) (7.1.2)\n",
            "Requirement already satisfied: joblib in /usr/local/lib/python3.7/dist-packages (from sacremoses->transformers==4.2.2) (1.0.1)\n",
            "Installing collected packages: tokenizers, sacremoses, transformers\n",
            "Successfully installed sacremoses-0.0.45 tokenizers-0.9.4 transformers-4.2.2\n"
          ]
        }
      ]
    },
    {
      "cell_type": "code",
      "metadata": {
        "colab": {
          "base_uri": "https://localhost:8080/"
        },
        "id": "eWlVskb3U5ZF",
        "outputId": "50e6b319-bdf5-4ede-8531-538c82d46821"
      },
      "source": [
        "!git clone  https://github.com/sberbank-ai/ru-gpts"
      ],
      "execution_count": null,
      "outputs": [
        {
          "output_type": "stream",
          "name": "stdout",
          "text": [
            "--2021-09-16 09:24:11--  https://tlk.s3.yandex.net/dataset/TlkPersonaChatRus.zip\n",
            "Resolving tlk.s3.yandex.net (tlk.s3.yandex.net)... 93.158.134.158, 2a02:6b8::2:158\n",
            "Connecting to tlk.s3.yandex.net (tlk.s3.yandex.net)|93.158.134.158|:443... connected.\n",
            "HTTP request sent, awaiting response... 200 OK\n",
            "Length: 6139432 (5.9M) [application/zip]\n",
            "Saving to: ‘TlkPersonaChatRus.zip’\n",
            "\n",
            "TlkPersonaChatRus.z 100%[===================>]   5.85M  3.97MB/s    in 1.5s    \n",
            "\n",
            "2021-09-16 09:24:13 (3.97 MB/s) - ‘TlkPersonaChatRus.zip’ saved [6139432/6139432]\n",
            "\n",
            "Archive:  TlkPersonaChatRus.zip\n",
            "   creating: TlkPersonaChatRus/\n",
            "  inflating: TlkPersonaChatRus/dialogues.tsv  \n",
            "  inflating: TlkPersonaChatRus/readme_TlkPersonaChatRus.txt  \n",
            "  inflating: TlkPersonaChatRus/profiles.tsv  \n"
          ]
        }
      ]
    },
    {
      "cell_type": "code",
      "metadata": {
        "colab": {
          "base_uri": "https://localhost:8080/"
        },
        "id": "5EZKmLtM99L4",
        "outputId": "f2afedb9-3fe1-4563-f3f3-08d8b370b049"
      },
      "source": [
        "%%writefile setup.sh\n",
        "\n",
        "export CUDA_HOME=/usr/local/cuda-10.1\n",
        "git clone https://github.com/NVIDIA/apex\n",
        "pip install -v --no-cache-dir --global-option=\"--cpp_ext\" --global-option=\"--cuda_ext\" ./apex"
      ],
      "execution_count": null,
      "outputs": [
        {
          "output_type": "stream",
          "name": "stdout",
          "text": [
            "Writing setup.sh\n"
          ]
        }
      ]
    },
    {
      "cell_type": "code",
      "metadata": {
        "id": "X6eZpK3R9_sA"
      },
      "source": [
        "!sh setup.sh"
      ],
      "execution_count": null,
      "outputs": []
    },
    {
      "cell_type": "markdown",
      "metadata": {
        "id": "S8EpaPrr_uWy"
      },
      "source": [
        "# download simple training set"
      ]
    },
    {
      "cell_type": "code",
      "metadata": {
        "id": "enuWMOi0_udT"
      },
      "source": [
        "!wget -O train.txt https://www.dropbox.com/s/oa3v9c7g9bp40xw/train.txt?dl=0\n",
        "!wget -O valid.txt https://www.dropbox.com/s/mworl3ld6r3bg62/valid.txt?dl=0"
      ],
      "execution_count": null,
      "outputs": []
    },
    {
      "cell_type": "code",
      "metadata": {
        "id": "Kjar0yJu_yLD"
      },
      "source": [
        "!export PYTHONPATH=${PYTHONPATH}:/ru-gpts/\n",
        "!CUDA_VISIBLE_DEVICES=0 python ru-gpts/pretrain_transformers.py \\\n",
        "    --output_dir=models/essays \\\n",
        "    --model_type=gpt2 \\\n",
        "    --model_name_or_path=sberbank-ai/rugpt3small_based_on_gpt2 \\\n",
        "    --do_train \\\n",
        "    --train_data_file=train.txt \\\n",
        "    --do_eval \\\n",
        "    --eval_data_file=valid.txt \\\n",
        "    --per_gpu_train_batch_size 1 \\\n",
        "    --gradient_accumulation_steps 1 \\\n",
        "    --fp16_opt_level 'O4' \\\n",
        "    --num_train_epochs 5 \\\n",
        "    --block_size 2048 \\\n",
        "    --overwrite_output_dir"
      ],
      "execution_count": null,
      "outputs": []
    },
    {
      "cell_type": "markdown",
      "metadata": {
        "id": "hyqbn18U_-P-"
      },
      "source": [
        "# Simple inference"
      ]
    },
    {
      "cell_type": "code",
      "metadata": {
        "id": "Njl_760FAAu3"
      },
      "source": [
        "import numpy as np\n",
        "import torch\n",
        "from transformers import GPT2LMHeadModel, GPT2Tokenizer\n",
        "\n",
        "np.random.seed(42)\n",
        "torch.manual_seed(42)"
      ],
      "execution_count": null,
      "outputs": []
    },
    {
      "cell_type": "code",
      "metadata": {
        "id": "mxNwY18WADVN"
      },
      "source": [
        "tok = GPT2Tokenizer.from_pretrained(\"models/essays\")\n",
        "model = GPT2LMHeadModel.from_pretrained(\"models/essays\").cuda()\n",
        "\n",
        "text = \"<s>Тема: «Создает человека природа, но развивает и образует его общество». (В.Т. Белинский)\\nСочинение: \"\n",
        "inpt = tok.encode(text, return_tensors=\"pt\")\n",
        "out = model.generate(inpt.cuda(), max_length=500, repetition_penalty=5.0, do_sample=True, top_k=5, top_p=0.95, temperature=1)\n",
        "print(tok.decode(out[0]))"
      ],
      "execution_count": null,
      "outputs": []
    },
    {
      "cell_type": "markdown",
      "metadata": {
        "id": "rCtIX4o3Aprl"
      },
      "source": [
        "# Also simple api"
      ]
    },
    {
      "cell_type": "code",
      "metadata": {
        "id": "3cwxRLZ7Amdu"
      },
      "source": [
        "from fastapi import FastAPI\n",
        "app = FastAPI()\n",
        "from fastapi import FastAPI\n",
        "\n",
        "from fastapi.middleware.cors import CORSMiddleware\n",
        "from starlette.middleware import Middleware\n",
        "from starlette.middleware.cors import CORSMiddleware\n",
        "\n",
        "\n",
        "import numpy as np\n",
        "import torch\n",
        "np.random.seed(42)\n",
        "torch.manual_seed(42)\n",
        "from transformers import GPT2LMHeadModel, GPT2Tokenizer\n",
        "\n",
        "device='cuda'\n",
        "BACKBONE = \"content/weights_push_v_may\"\n",
        "\n",
        "tok = GPT2Tokenizer.from_pretrained(BACKBONE)\n",
        "model = GPT2LMHeadModel.from_pretrained(BACKBONE).to(device)\n",
        "#model = model.half()\n",
        "\n",
        "def generate(text,lenght=100,temp=1,num=2):\n",
        "  \n",
        "  \n",
        "\n",
        "  inpt = tok.encode(text, return_tensors=\"pt\").to(device)\n",
        "\n",
        "  max_length=lenght\n",
        "\n",
        "  out = model.generate(inpt,  \n",
        "          do_sample=True,\n",
        "\t\t       top_k=1000,\n",
        "\t\t       top_p=0.95,\n",
        "\t\t       length=lenght,\t\t       \t \n",
        "           temperature=temp)\n",
        "  decoded = tok.decode(out[0])\n",
        "  return decoded\n",
        "\n",
        "\n",
        "\n",
        "origins = [\"*\"]\n",
        "\n",
        "app.add_middleware(\n",
        "    CORSMiddleware,\n",
        "    allow_origins=origins,\n",
        "    allow_credentials=True,\n",
        "    allow_methods=[\"*\"],\n",
        "    allow_headers=[\"*\"],\n",
        ")\n",
        "@app.get(\"/\")\n",
        "def main():\n",
        "    return \"go to /push/?message=пидр\"\n",
        "\n",
        "\n",
        "\n",
        "@app.get('/push/')\n",
        "def detect_spam_query(text: str,temp: float):\n",
        "  \n",
        "  return {\"text\":generate(text,temp=temp)}\n",
        "\n",
        "import nest_asyncio\n",
        "#from pyngrok import ngrok\n",
        "import uvicorn\n",
        "nest_asyncio.apply()\n",
        "uvicorn.run(app, host=\"0.0.0.0\", port=5000,timeout_keep_alive=10000)\n"
      ],
      "execution_count": null,
      "outputs": []
    }
  ]
}